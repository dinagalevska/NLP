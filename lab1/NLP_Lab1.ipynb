{
  "nbformat": 4,
  "nbformat_minor": 0,
  "metadata": {
    "colab": {
      "provenance": [],
      "gpuType": "T4"
    },
    "kernelspec": {
      "name": "python3",
      "display_name": "Python 3"
    },
    "language_info": {
      "name": "python"
    },
    "accelerator": "GPU"
  },
  "cells": [
    {
      "cell_type": "code",
      "execution_count": 3,
      "metadata": {
        "id": "JIIkogrzv6vn"
      },
      "outputs": [],
      "source": [
        "import numpy as np\n",
        "import pandas as pd\n",
        "from nltk.tokenize import word_tokenize, TweetTokenizer, WhitespaceTokenizer, RegexpTokenizer\n",
        "from gensim.models import Word2Vec\n",
        "from tensorflow.keras.models import Sequential\n",
        "from tensorflow.keras.layers import LSTM, GRU, Dense, Dropout, Embedding\n",
        "from tensorflow.keras.preprocessing.sequence import pad_sequences\n",
        "from tensorflow.keras.optimizers import Adam\n",
        "from tensorflow.keras.losses import binary_crossentropy\n",
        "from sklearn.model_selection import train_test_split\n",
        "from sklearn.manifold import TSNE\n",
        "import matplotlib.pyplot as plt\n",
        "from sklearn.metrics import classification_report, confusion_matrix\n",
        "import torch"
      ]
    },
    {
      "cell_type": "code",
      "source": [
        "import nltk\n",
        "nltk.download('punkt')"
      ],
      "metadata": {
        "colab": {
          "base_uri": "https://localhost:8080/"
        },
        "id": "-MEIgELe1P1X",
        "outputId": "4f16ddc4-e720-4e0d-baf7-44a9868099f8"
      },
      "execution_count": 4,
      "outputs": [
        {
          "output_type": "stream",
          "name": "stderr",
          "text": [
            "[nltk_data] Downloading package punkt to /root/nltk_data...\n",
            "[nltk_data]   Package punkt is already up-to-date!\n"
          ]
        },
        {
          "output_type": "execute_result",
          "data": {
            "text/plain": [
              "True"
            ]
          },
          "metadata": {},
          "execution_count": 4
        }
      ]
    },
    {
      "cell_type": "markdown",
      "source": [
        "#Exercise 1"
      ],
      "metadata": {
        "id": "LU6PcGxS5NC-"
      }
    },
    {
      "cell_type": "code",
      "source": [
        "data = pd.read_csv('train_en.txt', sep='\\t')\n",
        "data['Tokens'] = data['Sentence'].apply(lambda x: word_tokenize(x.lower()))"
      ],
      "metadata": {
        "id": "K5fAuyFF1a9r"
      },
      "execution_count": 5,
      "outputs": []
    },
    {
      "cell_type": "code",
      "source": [
        "data.head()"
      ],
      "metadata": {
        "colab": {
          "base_uri": "https://localhost:8080/",
          "height": 206
        },
        "id": "4nDRR3tE6uaL",
        "outputId": "3483919f-2336-42ca-9429-0a103930673f"
      },
      "execution_count": 6,
      "outputs": [
        {
          "output_type": "execute_result",
          "data": {
            "text/plain": [
              "                                            Sentence  Style  \\\n",
              "0                           he had steel balls too !  toxic   \n",
              "1  dude should have been taken to api , he would ...  toxic   \n",
              "2  im not gonna sell the fucking picture , i just...  toxic   \n",
              "3  the garbage that is being created by cnn and o...  toxic   \n",
              "4  the reason they dont exist is because neither ...  toxic   \n",
              "\n",
              "                                              Tokens  \n",
              "0                    [he, had, steel, balls, too, !]  \n",
              "1  [dude, should, have, been, taken, to, api, ,, ...  \n",
              "2  [im, not, gon, na, sell, the, fucking, picture...  \n",
              "3  [the, garbage, that, is, being, created, by, c...  \n",
              "4  [the, reason, they, dont, exist, is, because, ...  "
            ],
            "text/html": [
              "\n",
              "  <div id=\"df-4d010ce4-de22-4214-b3c0-15ced49d4955\" class=\"colab-df-container\">\n",
              "    <div>\n",
              "<style scoped>\n",
              "    .dataframe tbody tr th:only-of-type {\n",
              "        vertical-align: middle;\n",
              "    }\n",
              "\n",
              "    .dataframe tbody tr th {\n",
              "        vertical-align: top;\n",
              "    }\n",
              "\n",
              "    .dataframe thead th {\n",
              "        text-align: right;\n",
              "    }\n",
              "</style>\n",
              "<table border=\"1\" class=\"dataframe\">\n",
              "  <thead>\n",
              "    <tr style=\"text-align: right;\">\n",
              "      <th></th>\n",
              "      <th>Sentence</th>\n",
              "      <th>Style</th>\n",
              "      <th>Tokens</th>\n",
              "    </tr>\n",
              "  </thead>\n",
              "  <tbody>\n",
              "    <tr>\n",
              "      <th>0</th>\n",
              "      <td>he had steel balls too !</td>\n",
              "      <td>toxic</td>\n",
              "      <td>[he, had, steel, balls, too, !]</td>\n",
              "    </tr>\n",
              "    <tr>\n",
              "      <th>1</th>\n",
              "      <td>dude should have been taken to api , he would ...</td>\n",
              "      <td>toxic</td>\n",
              "      <td>[dude, should, have, been, taken, to, api, ,, ...</td>\n",
              "    </tr>\n",
              "    <tr>\n",
              "      <th>2</th>\n",
              "      <td>im not gonna sell the fucking picture , i just...</td>\n",
              "      <td>toxic</td>\n",
              "      <td>[im, not, gon, na, sell, the, fucking, picture...</td>\n",
              "    </tr>\n",
              "    <tr>\n",
              "      <th>3</th>\n",
              "      <td>the garbage that is being created by cnn and o...</td>\n",
              "      <td>toxic</td>\n",
              "      <td>[the, garbage, that, is, being, created, by, c...</td>\n",
              "    </tr>\n",
              "    <tr>\n",
              "      <th>4</th>\n",
              "      <td>the reason they dont exist is because neither ...</td>\n",
              "      <td>toxic</td>\n",
              "      <td>[the, reason, they, dont, exist, is, because, ...</td>\n",
              "    </tr>\n",
              "  </tbody>\n",
              "</table>\n",
              "</div>\n",
              "    <div class=\"colab-df-buttons\">\n",
              "\n",
              "  <div class=\"colab-df-container\">\n",
              "    <button class=\"colab-df-convert\" onclick=\"convertToInteractive('df-4d010ce4-de22-4214-b3c0-15ced49d4955')\"\n",
              "            title=\"Convert this dataframe to an interactive table.\"\n",
              "            style=\"display:none;\">\n",
              "\n",
              "  <svg xmlns=\"http://www.w3.org/2000/svg\" height=\"24px\" viewBox=\"0 -960 960 960\">\n",
              "    <path d=\"M120-120v-720h720v720H120Zm60-500h600v-160H180v160Zm220 220h160v-160H400v160Zm0 220h160v-160H400v160ZM180-400h160v-160H180v160Zm440 0h160v-160H620v160ZM180-180h160v-160H180v160Zm440 0h160v-160H620v160Z\"/>\n",
              "  </svg>\n",
              "    </button>\n",
              "\n",
              "  <style>\n",
              "    .colab-df-container {\n",
              "      display:flex;\n",
              "      gap: 12px;\n",
              "    }\n",
              "\n",
              "    .colab-df-convert {\n",
              "      background-color: #E8F0FE;\n",
              "      border: none;\n",
              "      border-radius: 50%;\n",
              "      cursor: pointer;\n",
              "      display: none;\n",
              "      fill: #1967D2;\n",
              "      height: 32px;\n",
              "      padding: 0 0 0 0;\n",
              "      width: 32px;\n",
              "    }\n",
              "\n",
              "    .colab-df-convert:hover {\n",
              "      background-color: #E2EBFA;\n",
              "      box-shadow: 0px 1px 2px rgba(60, 64, 67, 0.3), 0px 1px 3px 1px rgba(60, 64, 67, 0.15);\n",
              "      fill: #174EA6;\n",
              "    }\n",
              "\n",
              "    .colab-df-buttons div {\n",
              "      margin-bottom: 4px;\n",
              "    }\n",
              "\n",
              "    [theme=dark] .colab-df-convert {\n",
              "      background-color: #3B4455;\n",
              "      fill: #D2E3FC;\n",
              "    }\n",
              "\n",
              "    [theme=dark] .colab-df-convert:hover {\n",
              "      background-color: #434B5C;\n",
              "      box-shadow: 0px 1px 3px 1px rgba(0, 0, 0, 0.15);\n",
              "      filter: drop-shadow(0px 1px 2px rgba(0, 0, 0, 0.3));\n",
              "      fill: #FFFFFF;\n",
              "    }\n",
              "  </style>\n",
              "\n",
              "    <script>\n",
              "      const buttonEl =\n",
              "        document.querySelector('#df-4d010ce4-de22-4214-b3c0-15ced49d4955 button.colab-df-convert');\n",
              "      buttonEl.style.display =\n",
              "        google.colab.kernel.accessAllowed ? 'block' : 'none';\n",
              "\n",
              "      async function convertToInteractive(key) {\n",
              "        const element = document.querySelector('#df-4d010ce4-de22-4214-b3c0-15ced49d4955');\n",
              "        const dataTable =\n",
              "          await google.colab.kernel.invokeFunction('convertToInteractive',\n",
              "                                                    [key], {});\n",
              "        if (!dataTable) return;\n",
              "\n",
              "        const docLinkHtml = 'Like what you see? Visit the ' +\n",
              "          '<a target=\"_blank\" href=https://colab.research.google.com/notebooks/data_table.ipynb>data table notebook</a>'\n",
              "          + ' to learn more about interactive tables.';\n",
              "        element.innerHTML = '';\n",
              "        dataTable['output_type'] = 'display_data';\n",
              "        await google.colab.output.renderOutput(dataTable, element);\n",
              "        const docLink = document.createElement('div');\n",
              "        docLink.innerHTML = docLinkHtml;\n",
              "        element.appendChild(docLink);\n",
              "      }\n",
              "    </script>\n",
              "  </div>\n",
              "\n",
              "\n",
              "<div id=\"df-41d5aaa8-d241-4585-878c-061db9b44cd6\">\n",
              "  <button class=\"colab-df-quickchart\" onclick=\"quickchart('df-41d5aaa8-d241-4585-878c-061db9b44cd6')\"\n",
              "            title=\"Suggest charts\"\n",
              "            style=\"display:none;\">\n",
              "\n",
              "<svg xmlns=\"http://www.w3.org/2000/svg\" height=\"24px\"viewBox=\"0 0 24 24\"\n",
              "     width=\"24px\">\n",
              "    <g>\n",
              "        <path d=\"M19 3H5c-1.1 0-2 .9-2 2v14c0 1.1.9 2 2 2h14c1.1 0 2-.9 2-2V5c0-1.1-.9-2-2-2zM9 17H7v-7h2v7zm4 0h-2V7h2v10zm4 0h-2v-4h2v4z\"/>\n",
              "    </g>\n",
              "</svg>\n",
              "  </button>\n",
              "\n",
              "<style>\n",
              "  .colab-df-quickchart {\n",
              "      --bg-color: #E8F0FE;\n",
              "      --fill-color: #1967D2;\n",
              "      --hover-bg-color: #E2EBFA;\n",
              "      --hover-fill-color: #174EA6;\n",
              "      --disabled-fill-color: #AAA;\n",
              "      --disabled-bg-color: #DDD;\n",
              "  }\n",
              "\n",
              "  [theme=dark] .colab-df-quickchart {\n",
              "      --bg-color: #3B4455;\n",
              "      --fill-color: #D2E3FC;\n",
              "      --hover-bg-color: #434B5C;\n",
              "      --hover-fill-color: #FFFFFF;\n",
              "      --disabled-bg-color: #3B4455;\n",
              "      --disabled-fill-color: #666;\n",
              "  }\n",
              "\n",
              "  .colab-df-quickchart {\n",
              "    background-color: var(--bg-color);\n",
              "    border: none;\n",
              "    border-radius: 50%;\n",
              "    cursor: pointer;\n",
              "    display: none;\n",
              "    fill: var(--fill-color);\n",
              "    height: 32px;\n",
              "    padding: 0;\n",
              "    width: 32px;\n",
              "  }\n",
              "\n",
              "  .colab-df-quickchart:hover {\n",
              "    background-color: var(--hover-bg-color);\n",
              "    box-shadow: 0 1px 2px rgba(60, 64, 67, 0.3), 0 1px 3px 1px rgba(60, 64, 67, 0.15);\n",
              "    fill: var(--button-hover-fill-color);\n",
              "  }\n",
              "\n",
              "  .colab-df-quickchart-complete:disabled,\n",
              "  .colab-df-quickchart-complete:disabled:hover {\n",
              "    background-color: var(--disabled-bg-color);\n",
              "    fill: var(--disabled-fill-color);\n",
              "    box-shadow: none;\n",
              "  }\n",
              "\n",
              "  .colab-df-spinner {\n",
              "    border: 2px solid var(--fill-color);\n",
              "    border-color: transparent;\n",
              "    border-bottom-color: var(--fill-color);\n",
              "    animation:\n",
              "      spin 1s steps(1) infinite;\n",
              "  }\n",
              "\n",
              "  @keyframes spin {\n",
              "    0% {\n",
              "      border-color: transparent;\n",
              "      border-bottom-color: var(--fill-color);\n",
              "      border-left-color: var(--fill-color);\n",
              "    }\n",
              "    20% {\n",
              "      border-color: transparent;\n",
              "      border-left-color: var(--fill-color);\n",
              "      border-top-color: var(--fill-color);\n",
              "    }\n",
              "    30% {\n",
              "      border-color: transparent;\n",
              "      border-left-color: var(--fill-color);\n",
              "      border-top-color: var(--fill-color);\n",
              "      border-right-color: var(--fill-color);\n",
              "    }\n",
              "    40% {\n",
              "      border-color: transparent;\n",
              "      border-right-color: var(--fill-color);\n",
              "      border-top-color: var(--fill-color);\n",
              "    }\n",
              "    60% {\n",
              "      border-color: transparent;\n",
              "      border-right-color: var(--fill-color);\n",
              "    }\n",
              "    80% {\n",
              "      border-color: transparent;\n",
              "      border-right-color: var(--fill-color);\n",
              "      border-bottom-color: var(--fill-color);\n",
              "    }\n",
              "    90% {\n",
              "      border-color: transparent;\n",
              "      border-bottom-color: var(--fill-color);\n",
              "    }\n",
              "  }\n",
              "</style>\n",
              "\n",
              "  <script>\n",
              "    async function quickchart(key) {\n",
              "      const quickchartButtonEl =\n",
              "        document.querySelector('#' + key + ' button');\n",
              "      quickchartButtonEl.disabled = true;  // To prevent multiple clicks.\n",
              "      quickchartButtonEl.classList.add('colab-df-spinner');\n",
              "      try {\n",
              "        const charts = await google.colab.kernel.invokeFunction(\n",
              "            'suggestCharts', [key], {});\n",
              "      } catch (error) {\n",
              "        console.error('Error during call to suggestCharts:', error);\n",
              "      }\n",
              "      quickchartButtonEl.classList.remove('colab-df-spinner');\n",
              "      quickchartButtonEl.classList.add('colab-df-quickchart-complete');\n",
              "    }\n",
              "    (() => {\n",
              "      let quickchartButtonEl =\n",
              "        document.querySelector('#df-41d5aaa8-d241-4585-878c-061db9b44cd6 button');\n",
              "      quickchartButtonEl.style.display =\n",
              "        google.colab.kernel.accessAllowed ? 'block' : 'none';\n",
              "    })();\n",
              "  </script>\n",
              "</div>\n",
              "    </div>\n",
              "  </div>\n"
            ],
            "application/vnd.google.colaboratory.intrinsic+json": {
              "type": "dataframe",
              "variable_name": "data",
              "summary": "{\n  \"name\": \"data\",\n  \"rows\": 25040,\n  \"fields\": [\n    {\n      \"column\": \"Sentence\",\n      \"properties\": {\n        \"dtype\": \"string\",\n        \"num_unique_values\": 22096,\n        \"samples\": [\n          \"dont need proof just say ittines and it has to be true , right?\",\n          \"post your real name so that weknow who the fool is hiding behind that fake name .\",\n          \"and people who spread ignorance by making up irrelevant fake stats\"\n        ],\n        \"semantic_type\": \"\",\n        \"description\": \"\"\n      }\n    },\n    {\n      \"column\": \"Style\",\n      \"properties\": {\n        \"dtype\": \"category\",\n        \"num_unique_values\": 2,\n        \"samples\": [\n          \"neutral\",\n          \"toxic\"\n        ],\n        \"semantic_type\": \"\",\n        \"description\": \"\"\n      }\n    },\n    {\n      \"column\": \"Tokens\",\n      \"properties\": {\n        \"dtype\": \"object\",\n        \"semantic_type\": \"\",\n        \"description\": \"\"\n      }\n    }\n  ]\n}"
            }
          },
          "metadata": {},
          "execution_count": 6
        }
      ]
    },
    {
      "cell_type": "code",
      "source": [
        "sentences = data['Tokens'].values"
      ],
      "metadata": {
        "id": "wUc0FcdSamep"
      },
      "execution_count": 7,
      "outputs": []
    },
    {
      "cell_type": "code",
      "source": [
        "model_word2vec = Word2Vec(sentences, vector_size=50, min_count=15, sg=1)"
      ],
      "metadata": {
        "id": "eHkHF-20awFR"
      },
      "execution_count": 8,
      "outputs": []
    },
    {
      "cell_type": "code",
      "source": [
        "words = model_word2vec.wv.index_to_key\n",
        "words.append('<UNK>')"
      ],
      "metadata": {
        "id": "nxgXlhdyaw9a"
      },
      "execution_count": 9,
      "outputs": []
    },
    {
      "cell_type": "code",
      "source": [
        "word_to_id = {word: i for i, word in enumerate(words)}"
      ],
      "metadata": {
        "id": "lFWqOXDL2x6g"
      },
      "execution_count": 10,
      "outputs": []
    },
    {
      "cell_type": "code",
      "source": [
        "data['IDs'] = data['Tokens'].apply(lambda x: [word_to_id.get(word, word_to_id['<UNK>']) for word in x])"
      ],
      "metadata": {
        "id": "f4QkxCy-27aA"
      },
      "execution_count": 11,
      "outputs": []
    },
    {
      "cell_type": "code",
      "source": [
        "data"
      ],
      "metadata": {
        "colab": {
          "base_uri": "https://localhost:8080/",
          "height": 423
        },
        "id": "0Q_PhCge29Ro",
        "outputId": "c5eb1915-41f4-4325-8c7d-53feb4acbaaf"
      },
      "execution_count": 12,
      "outputs": [
        {
          "output_type": "execute_result",
          "data": {
            "text/plain": [
              "                                                Sentence    Style  \\\n",
              "0                               he had steel balls too !    toxic   \n",
              "1      dude should have been taken to api , he would ...    toxic   \n",
              "2      im not gonna sell the fucking picture , i just...    toxic   \n",
              "3      the garbage that is being created by cnn and o...    toxic   \n",
              "4      the reason they dont exist is because neither ...    toxic   \n",
              "...                                                  ...      ...   \n",
              "25035  both sides need to calm down or we are heading...  neutral   \n",
              "25036  i 'm sitting here in my calm german city conte...  neutral   \n",
              "25037                                dude , get a clue .  neutral   \n",
              "25038                     I was so high, it was amazing.  neutral   \n",
              "25039                                   pay your bills .  neutral   \n",
              "\n",
              "                                                  Tokens  \\\n",
              "0                        [he, had, steel, balls, too, !]   \n",
              "1      [dude, should, have, been, taken, to, api, ,, ...   \n",
              "2      [im, not, gon, na, sell, the, fucking, picture...   \n",
              "3      [the, garbage, that, is, being, created, by, c...   \n",
              "4      [the, reason, they, dont, exist, is, because, ...   \n",
              "...                                                  ...   \n",
              "25035  [both, sides, need, to, calm, down, or, we, ar...   \n",
              "25036  [i, 'm, sitting, here, in, my, calm, german, c...   \n",
              "25037                         [dude, ,, get, a, clue, .]   \n",
              "25038         [i, was, so, high, ,, it, was, amazing, .]   \n",
              "25039                              [pay, your, bills, .]   \n",
              "\n",
              "                                                     IDs  \n",
              "0                          [35, 147, 1459, 1323, 92, 12]  \n",
              "1      [295, 102, 37, 128, 1167, 5, 1459, 3, 35, 60, ...  \n",
              "2      [117, 21, 175, 134, 1459, 1, 23, 1090, 3, 2, 3...  \n",
              "3      [1, 518, 8, 7, 122, 1459, 109, 1019, 11, 155, ...  \n",
              "4      [1, 387, 24, 120, 1211, 7, 81, 1098, 7, 6, 145...  \n",
              "...                                                  ...  \n",
              "25035  [274, 884, 108, 5, 958, 150, 77, 42, 17, 1459,...  \n",
              "25036  [2, 50, 954, 100, 16, 25, 958, 1164, 540, 1459...  \n",
              "25037                            [295, 3, 41, 6, 644, 0]  \n",
              "25038                [2, 34, 39, 448, 3, 13, 34, 329, 0]  \n",
              "25039                                 [318, 40, 1459, 0]  \n",
              "\n",
              "[25040 rows x 4 columns]"
            ],
            "text/html": [
              "\n",
              "  <div id=\"df-803e341b-1d26-4c25-9f9f-5264e44360fb\" class=\"colab-df-container\">\n",
              "    <div>\n",
              "<style scoped>\n",
              "    .dataframe tbody tr th:only-of-type {\n",
              "        vertical-align: middle;\n",
              "    }\n",
              "\n",
              "    .dataframe tbody tr th {\n",
              "        vertical-align: top;\n",
              "    }\n",
              "\n",
              "    .dataframe thead th {\n",
              "        text-align: right;\n",
              "    }\n",
              "</style>\n",
              "<table border=\"1\" class=\"dataframe\">\n",
              "  <thead>\n",
              "    <tr style=\"text-align: right;\">\n",
              "      <th></th>\n",
              "      <th>Sentence</th>\n",
              "      <th>Style</th>\n",
              "      <th>Tokens</th>\n",
              "      <th>IDs</th>\n",
              "    </tr>\n",
              "  </thead>\n",
              "  <tbody>\n",
              "    <tr>\n",
              "      <th>0</th>\n",
              "      <td>he had steel balls too !</td>\n",
              "      <td>toxic</td>\n",
              "      <td>[he, had, steel, balls, too, !]</td>\n",
              "      <td>[35, 147, 1459, 1323, 92, 12]</td>\n",
              "    </tr>\n",
              "    <tr>\n",
              "      <th>1</th>\n",
              "      <td>dude should have been taken to api , he would ...</td>\n",
              "      <td>toxic</td>\n",
              "      <td>[dude, should, have, been, taken, to, api, ,, ...</td>\n",
              "      <td>[295, 102, 37, 128, 1167, 5, 1459, 3, 35, 60, ...</td>\n",
              "    </tr>\n",
              "    <tr>\n",
              "      <th>2</th>\n",
              "      <td>im not gonna sell the fucking picture , i just...</td>\n",
              "      <td>toxic</td>\n",
              "      <td>[im, not, gon, na, sell, the, fucking, picture...</td>\n",
              "      <td>[117, 21, 175, 134, 1459, 1, 23, 1090, 3, 2, 3...</td>\n",
              "    </tr>\n",
              "    <tr>\n",
              "      <th>3</th>\n",
              "      <td>the garbage that is being created by cnn and o...</td>\n",
              "      <td>toxic</td>\n",
              "      <td>[the, garbage, that, is, being, created, by, c...</td>\n",
              "      <td>[1, 518, 8, 7, 122, 1459, 109, 1019, 11, 155, ...</td>\n",
              "    </tr>\n",
              "    <tr>\n",
              "      <th>4</th>\n",
              "      <td>the reason they dont exist is because neither ...</td>\n",
              "      <td>toxic</td>\n",
              "      <td>[the, reason, they, dont, exist, is, because, ...</td>\n",
              "      <td>[1, 387, 24, 120, 1211, 7, 81, 1098, 7, 6, 145...</td>\n",
              "    </tr>\n",
              "    <tr>\n",
              "      <th>...</th>\n",
              "      <td>...</td>\n",
              "      <td>...</td>\n",
              "      <td>...</td>\n",
              "      <td>...</td>\n",
              "    </tr>\n",
              "    <tr>\n",
              "      <th>25035</th>\n",
              "      <td>both sides need to calm down or we are heading...</td>\n",
              "      <td>neutral</td>\n",
              "      <td>[both, sides, need, to, calm, down, or, we, ar...</td>\n",
              "      <td>[274, 884, 108, 5, 958, 150, 77, 42, 17, 1459,...</td>\n",
              "    </tr>\n",
              "    <tr>\n",
              "      <th>25036</th>\n",
              "      <td>i 'm sitting here in my calm german city conte...</td>\n",
              "      <td>neutral</td>\n",
              "      <td>[i, 'm, sitting, here, in, my, calm, german, c...</td>\n",
              "      <td>[2, 50, 954, 100, 16, 25, 958, 1164, 540, 1459...</td>\n",
              "    </tr>\n",
              "    <tr>\n",
              "      <th>25037</th>\n",
              "      <td>dude , get a clue .</td>\n",
              "      <td>neutral</td>\n",
              "      <td>[dude, ,, get, a, clue, .]</td>\n",
              "      <td>[295, 3, 41, 6, 644, 0]</td>\n",
              "    </tr>\n",
              "    <tr>\n",
              "      <th>25038</th>\n",
              "      <td>I was so high, it was amazing.</td>\n",
              "      <td>neutral</td>\n",
              "      <td>[i, was, so, high, ,, it, was, amazing, .]</td>\n",
              "      <td>[2, 34, 39, 448, 3, 13, 34, 329, 0]</td>\n",
              "    </tr>\n",
              "    <tr>\n",
              "      <th>25039</th>\n",
              "      <td>pay your bills .</td>\n",
              "      <td>neutral</td>\n",
              "      <td>[pay, your, bills, .]</td>\n",
              "      <td>[318, 40, 1459, 0]</td>\n",
              "    </tr>\n",
              "  </tbody>\n",
              "</table>\n",
              "<p>25040 rows × 4 columns</p>\n",
              "</div>\n",
              "    <div class=\"colab-df-buttons\">\n",
              "\n",
              "  <div class=\"colab-df-container\">\n",
              "    <button class=\"colab-df-convert\" onclick=\"convertToInteractive('df-803e341b-1d26-4c25-9f9f-5264e44360fb')\"\n",
              "            title=\"Convert this dataframe to an interactive table.\"\n",
              "            style=\"display:none;\">\n",
              "\n",
              "  <svg xmlns=\"http://www.w3.org/2000/svg\" height=\"24px\" viewBox=\"0 -960 960 960\">\n",
              "    <path d=\"M120-120v-720h720v720H120Zm60-500h600v-160H180v160Zm220 220h160v-160H400v160Zm0 220h160v-160H400v160ZM180-400h160v-160H180v160Zm440 0h160v-160H620v160ZM180-180h160v-160H180v160Zm440 0h160v-160H620v160Z\"/>\n",
              "  </svg>\n",
              "    </button>\n",
              "\n",
              "  <style>\n",
              "    .colab-df-container {\n",
              "      display:flex;\n",
              "      gap: 12px;\n",
              "    }\n",
              "\n",
              "    .colab-df-convert {\n",
              "      background-color: #E8F0FE;\n",
              "      border: none;\n",
              "      border-radius: 50%;\n",
              "      cursor: pointer;\n",
              "      display: none;\n",
              "      fill: #1967D2;\n",
              "      height: 32px;\n",
              "      padding: 0 0 0 0;\n",
              "      width: 32px;\n",
              "    }\n",
              "\n",
              "    .colab-df-convert:hover {\n",
              "      background-color: #E2EBFA;\n",
              "      box-shadow: 0px 1px 2px rgba(60, 64, 67, 0.3), 0px 1px 3px 1px rgba(60, 64, 67, 0.15);\n",
              "      fill: #174EA6;\n",
              "    }\n",
              "\n",
              "    .colab-df-buttons div {\n",
              "      margin-bottom: 4px;\n",
              "    }\n",
              "\n",
              "    [theme=dark] .colab-df-convert {\n",
              "      background-color: #3B4455;\n",
              "      fill: #D2E3FC;\n",
              "    }\n",
              "\n",
              "    [theme=dark] .colab-df-convert:hover {\n",
              "      background-color: #434B5C;\n",
              "      box-shadow: 0px 1px 3px 1px rgba(0, 0, 0, 0.15);\n",
              "      filter: drop-shadow(0px 1px 2px rgba(0, 0, 0, 0.3));\n",
              "      fill: #FFFFFF;\n",
              "    }\n",
              "  </style>\n",
              "\n",
              "    <script>\n",
              "      const buttonEl =\n",
              "        document.querySelector('#df-803e341b-1d26-4c25-9f9f-5264e44360fb button.colab-df-convert');\n",
              "      buttonEl.style.display =\n",
              "        google.colab.kernel.accessAllowed ? 'block' : 'none';\n",
              "\n",
              "      async function convertToInteractive(key) {\n",
              "        const element = document.querySelector('#df-803e341b-1d26-4c25-9f9f-5264e44360fb');\n",
              "        const dataTable =\n",
              "          await google.colab.kernel.invokeFunction('convertToInteractive',\n",
              "                                                    [key], {});\n",
              "        if (!dataTable) return;\n",
              "\n",
              "        const docLinkHtml = 'Like what you see? Visit the ' +\n",
              "          '<a target=\"_blank\" href=https://colab.research.google.com/notebooks/data_table.ipynb>data table notebook</a>'\n",
              "          + ' to learn more about interactive tables.';\n",
              "        element.innerHTML = '';\n",
              "        dataTable['output_type'] = 'display_data';\n",
              "        await google.colab.output.renderOutput(dataTable, element);\n",
              "        const docLink = document.createElement('div');\n",
              "        docLink.innerHTML = docLinkHtml;\n",
              "        element.appendChild(docLink);\n",
              "      }\n",
              "    </script>\n",
              "  </div>\n",
              "\n",
              "\n",
              "<div id=\"df-b3ee6c79-d3b0-4ee2-8ae6-e52a5ed6368f\">\n",
              "  <button class=\"colab-df-quickchart\" onclick=\"quickchart('df-b3ee6c79-d3b0-4ee2-8ae6-e52a5ed6368f')\"\n",
              "            title=\"Suggest charts\"\n",
              "            style=\"display:none;\">\n",
              "\n",
              "<svg xmlns=\"http://www.w3.org/2000/svg\" height=\"24px\"viewBox=\"0 0 24 24\"\n",
              "     width=\"24px\">\n",
              "    <g>\n",
              "        <path d=\"M19 3H5c-1.1 0-2 .9-2 2v14c0 1.1.9 2 2 2h14c1.1 0 2-.9 2-2V5c0-1.1-.9-2-2-2zM9 17H7v-7h2v7zm4 0h-2V7h2v10zm4 0h-2v-4h2v4z\"/>\n",
              "    </g>\n",
              "</svg>\n",
              "  </button>\n",
              "\n",
              "<style>\n",
              "  .colab-df-quickchart {\n",
              "      --bg-color: #E8F0FE;\n",
              "      --fill-color: #1967D2;\n",
              "      --hover-bg-color: #E2EBFA;\n",
              "      --hover-fill-color: #174EA6;\n",
              "      --disabled-fill-color: #AAA;\n",
              "      --disabled-bg-color: #DDD;\n",
              "  }\n",
              "\n",
              "  [theme=dark] .colab-df-quickchart {\n",
              "      --bg-color: #3B4455;\n",
              "      --fill-color: #D2E3FC;\n",
              "      --hover-bg-color: #434B5C;\n",
              "      --hover-fill-color: #FFFFFF;\n",
              "      --disabled-bg-color: #3B4455;\n",
              "      --disabled-fill-color: #666;\n",
              "  }\n",
              "\n",
              "  .colab-df-quickchart {\n",
              "    background-color: var(--bg-color);\n",
              "    border: none;\n",
              "    border-radius: 50%;\n",
              "    cursor: pointer;\n",
              "    display: none;\n",
              "    fill: var(--fill-color);\n",
              "    height: 32px;\n",
              "    padding: 0;\n",
              "    width: 32px;\n",
              "  }\n",
              "\n",
              "  .colab-df-quickchart:hover {\n",
              "    background-color: var(--hover-bg-color);\n",
              "    box-shadow: 0 1px 2px rgba(60, 64, 67, 0.3), 0 1px 3px 1px rgba(60, 64, 67, 0.15);\n",
              "    fill: var(--button-hover-fill-color);\n",
              "  }\n",
              "\n",
              "  .colab-df-quickchart-complete:disabled,\n",
              "  .colab-df-quickchart-complete:disabled:hover {\n",
              "    background-color: var(--disabled-bg-color);\n",
              "    fill: var(--disabled-fill-color);\n",
              "    box-shadow: none;\n",
              "  }\n",
              "\n",
              "  .colab-df-spinner {\n",
              "    border: 2px solid var(--fill-color);\n",
              "    border-color: transparent;\n",
              "    border-bottom-color: var(--fill-color);\n",
              "    animation:\n",
              "      spin 1s steps(1) infinite;\n",
              "  }\n",
              "\n",
              "  @keyframes spin {\n",
              "    0% {\n",
              "      border-color: transparent;\n",
              "      border-bottom-color: var(--fill-color);\n",
              "      border-left-color: var(--fill-color);\n",
              "    }\n",
              "    20% {\n",
              "      border-color: transparent;\n",
              "      border-left-color: var(--fill-color);\n",
              "      border-top-color: var(--fill-color);\n",
              "    }\n",
              "    30% {\n",
              "      border-color: transparent;\n",
              "      border-left-color: var(--fill-color);\n",
              "      border-top-color: var(--fill-color);\n",
              "      border-right-color: var(--fill-color);\n",
              "    }\n",
              "    40% {\n",
              "      border-color: transparent;\n",
              "      border-right-color: var(--fill-color);\n",
              "      border-top-color: var(--fill-color);\n",
              "    }\n",
              "    60% {\n",
              "      border-color: transparent;\n",
              "      border-right-color: var(--fill-color);\n",
              "    }\n",
              "    80% {\n",
              "      border-color: transparent;\n",
              "      border-right-color: var(--fill-color);\n",
              "      border-bottom-color: var(--fill-color);\n",
              "    }\n",
              "    90% {\n",
              "      border-color: transparent;\n",
              "      border-bottom-color: var(--fill-color);\n",
              "    }\n",
              "  }\n",
              "</style>\n",
              "\n",
              "  <script>\n",
              "    async function quickchart(key) {\n",
              "      const quickchartButtonEl =\n",
              "        document.querySelector('#' + key + ' button');\n",
              "      quickchartButtonEl.disabled = true;  // To prevent multiple clicks.\n",
              "      quickchartButtonEl.classList.add('colab-df-spinner');\n",
              "      try {\n",
              "        const charts = await google.colab.kernel.invokeFunction(\n",
              "            'suggestCharts', [key], {});\n",
              "      } catch (error) {\n",
              "        console.error('Error during call to suggestCharts:', error);\n",
              "      }\n",
              "      quickchartButtonEl.classList.remove('colab-df-spinner');\n",
              "      quickchartButtonEl.classList.add('colab-df-quickchart-complete');\n",
              "    }\n",
              "    (() => {\n",
              "      let quickchartButtonEl =\n",
              "        document.querySelector('#df-b3ee6c79-d3b0-4ee2-8ae6-e52a5ed6368f button');\n",
              "      quickchartButtonEl.style.display =\n",
              "        google.colab.kernel.accessAllowed ? 'block' : 'none';\n",
              "    })();\n",
              "  </script>\n",
              "</div>\n",
              "    </div>\n",
              "  </div>\n"
            ],
            "application/vnd.google.colaboratory.intrinsic+json": {
              "type": "dataframe",
              "variable_name": "data",
              "summary": "{\n  \"name\": \"data\",\n  \"rows\": 25040,\n  \"fields\": [\n    {\n      \"column\": \"Sentence\",\n      \"properties\": {\n        \"dtype\": \"string\",\n        \"num_unique_values\": 22096,\n        \"samples\": [\n          \"dont need proof just say ittines and it has to be true , right?\",\n          \"post your real name so that weknow who the fool is hiding behind that fake name .\",\n          \"and people who spread ignorance by making up irrelevant fake stats\"\n        ],\n        \"semantic_type\": \"\",\n        \"description\": \"\"\n      }\n    },\n    {\n      \"column\": \"Style\",\n      \"properties\": {\n        \"dtype\": \"category\",\n        \"num_unique_values\": 2,\n        \"samples\": [\n          \"neutral\",\n          \"toxic\"\n        ],\n        \"semantic_type\": \"\",\n        \"description\": \"\"\n      }\n    },\n    {\n      \"column\": \"Tokens\",\n      \"properties\": {\n        \"dtype\": \"object\",\n        \"semantic_type\": \"\",\n        \"description\": \"\"\n      }\n    },\n    {\n      \"column\": \"IDs\",\n      \"properties\": {\n        \"dtype\": \"object\",\n        \"semantic_type\": \"\",\n        \"description\": \"\"\n      }\n    }\n  ]\n}"
            }
          },
          "metadata": {},
          "execution_count": 12
        }
      ]
    },
    {
      "cell_type": "code",
      "source": [
        "token_ids = data['IDs'].values\n",
        "avg_seq_len = int(np.mean([len(seq) for seq in token_ids]))\n",
        "padded_ids = pad_sequences(token_ids, maxlen=avg_seq_len, padding='post')"
      ],
      "metadata": {
        "id": "uflt8FXx3BTA"
      },
      "execution_count": 13,
      "outputs": []
    },
    {
      "cell_type": "code",
      "source": [
        "labels = data['Style'].apply(lambda x: 1 if x == 'toxic' else 0).values"
      ],
      "metadata": {
        "id": "FwAu3WoJbR8O"
      },
      "execution_count": 14,
      "outputs": []
    },
    {
      "cell_type": "code",
      "source": [
        "token_ids"
      ],
      "metadata": {
        "colab": {
          "base_uri": "https://localhost:8080/"
        },
        "id": "FQiD7oy_3HKY",
        "outputId": "21a6905b-d1f4-4fb4-fc50-22c8367f43cb"
      },
      "execution_count": 15,
      "outputs": [
        {
          "output_type": "execute_result",
          "data": {
            "text/plain": [
              "array([list([35, 147, 1459, 1323, 92, 12]),\n",
              "       list([295, 102, 37, 128, 1167, 5, 1459, 3, 35, 60, 29, 86, 62, 323, 33, 45, 1, 155, 1459, 73]),\n",
              "       list([117, 21, 175, 134, 1459, 1, 23, 1090, 3, 2, 31, 98, 5, 1459, 5, 1, 23, 202, 0]),\n",
              "       ..., list([295, 3, 41, 6, 644, 0]),\n",
              "       list([2, 34, 39, 448, 3, 13, 34, 329, 0]),\n",
              "       list([318, 40, 1459, 0])], dtype=object)"
            ]
          },
          "metadata": {},
          "execution_count": 15
        }
      ]
    },
    {
      "cell_type": "code",
      "source": [
        "padded_ids"
      ],
      "metadata": {
        "colab": {
          "base_uri": "https://localhost:8080/"
        },
        "id": "Fg2gZfGK3I3A",
        "outputId": "52387c5d-54db-4705-beb9-311bb3c87798"
      },
      "execution_count": 16,
      "outputs": [
        {
          "output_type": "execute_result",
          "data": {
            "text/plain": [
              "array([[  35,  147, 1459, ...,    0,    0,    0],\n",
              "       [  60,   29,   86, ...,  155, 1459,   73],\n",
              "       [   3,    2,   31, ...,   23,  202,    0],\n",
              "       ...,\n",
              "       [ 295,    3,   41, ...,    0,    0,    0],\n",
              "       [   2,   34,   39, ...,    0,    0,    0],\n",
              "       [ 318,   40, 1459, ...,    0,    0,    0]], dtype=int32)"
            ]
          },
          "metadata": {},
          "execution_count": 16
        }
      ]
    },
    {
      "cell_type": "code",
      "source": [
        "labels"
      ],
      "metadata": {
        "colab": {
          "base_uri": "https://localhost:8080/"
        },
        "id": "Kj2H-RlX3J3A",
        "outputId": "0c466aa4-3ce1-4154-b3f5-b6e32707abe7"
      },
      "execution_count": 17,
      "outputs": [
        {
          "output_type": "execute_result",
          "data": {
            "text/plain": [
              "array([1, 1, 1, ..., 0, 0, 0])"
            ]
          },
          "metadata": {},
          "execution_count": 17
        }
      ]
    },
    {
      "cell_type": "code",
      "source": [
        "X_train, X_test, y_train, y_test = train_test_split(padded_ids, labels, test_size=0.2, random_state=42)\n",
        "X_train, X_val, y_train, y_val = train_test_split(X_train, y_train, test_size=0.2, random_state=42)"
      ],
      "metadata": {
        "id": "hBFBnaqLb4we"
      },
      "execution_count": 18,
      "outputs": []
    },
    {
      "cell_type": "code",
      "source": [
        "unk_vector = np.zeros((1, 50))\n",
        "embedding_matrix = np.vstack([model_word2vec.wv.vectors, unk_vector])"
      ],
      "metadata": {
        "id": "lmKFAuigcM2e"
      },
      "execution_count": 19,
      "outputs": []
    },
    {
      "cell_type": "markdown",
      "source": [
        "#RNN"
      ],
      "metadata": {
        "id": "U9x0EY-023-J"
      }
    },
    {
      "cell_type": "code",
      "source": [
        "model = Sequential()\n",
        "model.add(Embedding(input_dim=len(words), output_dim=50,\n",
        "                    weights=[embedding_matrix], trainable=True))\n",
        "model.add(LSTM(64, return_sequences=True))\n",
        "model.add(LSTM(32))\n",
        "model.add(Dense(1, activation='sigmoid'))\n",
        "model.compile(optimizer=Adam(learning_rate=0.01), loss='binary_crossentropy', metrics=['accuracy'])"
      ],
      "metadata": {
        "id": "L8toV4zF3Kvw"
      },
      "execution_count": 20,
      "outputs": []
    },
    {
      "cell_type": "code",
      "source": [
        "history = model.fit(X_train, y_train, epochs=10, batch_size=64, validation_data=(X_val, y_val))"
      ],
      "metadata": {
        "colab": {
          "base_uri": "https://localhost:8080/"
        },
        "id": "njt7C_3P3hJm",
        "outputId": "31d5b31c-6545-401b-c74e-59cead3e0382"
      },
      "execution_count": 21,
      "outputs": [
        {
          "output_type": "stream",
          "name": "stdout",
          "text": [
            "Epoch 1/10\n",
            "\u001b[1m251/251\u001b[0m \u001b[32m━━━━━━━━━━━━━━━━━━━━\u001b[0m\u001b[37m\u001b[0m \u001b[1m7s\u001b[0m 8ms/step - accuracy: 0.8110 - loss: 0.3782 - val_accuracy: 0.9009 - val_loss: 0.2284\n",
            "Epoch 2/10\n",
            "\u001b[1m251/251\u001b[0m \u001b[32m━━━━━━━━━━━━━━━━━━━━\u001b[0m\u001b[37m\u001b[0m \u001b[1m3s\u001b[0m 10ms/step - accuracy: 0.9075 - loss: 0.2070 - val_accuracy: 0.8959 - val_loss: 0.2365\n",
            "Epoch 3/10\n",
            "\u001b[1m251/251\u001b[0m \u001b[32m━━━━━━━━━━━━━━━━━━━━\u001b[0m\u001b[37m\u001b[0m \u001b[1m4s\u001b[0m 7ms/step - accuracy: 0.9092 - loss: 0.1895 - val_accuracy: 0.8934 - val_loss: 0.2753\n",
            "Epoch 4/10\n",
            "\u001b[1m251/251\u001b[0m \u001b[32m━━━━━━━━━━━━━━━━━━━━\u001b[0m\u001b[37m\u001b[0m \u001b[1m2s\u001b[0m 6ms/step - accuracy: 0.9158 - loss: 0.1657 - val_accuracy: 0.8837 - val_loss: 0.2784\n",
            "Epoch 5/10\n",
            "\u001b[1m251/251\u001b[0m \u001b[32m━━━━━━━━━━━━━━━━━━━━\u001b[0m\u001b[37m\u001b[0m \u001b[1m3s\u001b[0m 6ms/step - accuracy: 0.9299 - loss: 0.1431 - val_accuracy: 0.8797 - val_loss: 0.2789\n",
            "Epoch 6/10\n",
            "\u001b[1m251/251\u001b[0m \u001b[32m━━━━━━━━━━━━━━━━━━━━\u001b[0m\u001b[37m\u001b[0m \u001b[1m3s\u001b[0m 8ms/step - accuracy: 0.9391 - loss: 0.1282 - val_accuracy: 0.8795 - val_loss: 0.2925\n",
            "Epoch 7/10\n",
            "\u001b[1m251/251\u001b[0m \u001b[32m━━━━━━━━━━━━━━━━━━━━\u001b[0m\u001b[37m\u001b[0m \u001b[1m3s\u001b[0m 8ms/step - accuracy: 0.9436 - loss: 0.1226 - val_accuracy: 0.8722 - val_loss: 0.3852\n",
            "Epoch 8/10\n",
            "\u001b[1m251/251\u001b[0m \u001b[32m━━━━━━━━━━━━━━━━━━━━\u001b[0m\u001b[37m\u001b[0m \u001b[1m2s\u001b[0m 6ms/step - accuracy: 0.9460 - loss: 0.1115 - val_accuracy: 0.8712 - val_loss: 0.3312\n",
            "Epoch 9/10\n",
            "\u001b[1m251/251\u001b[0m \u001b[32m━━━━━━━━━━━━━━━━━━━━\u001b[0m\u001b[37m\u001b[0m \u001b[1m3s\u001b[0m 6ms/step - accuracy: 0.9524 - loss: 0.1021 - val_accuracy: 0.8735 - val_loss: 0.4216\n",
            "Epoch 10/10\n",
            "\u001b[1m251/251\u001b[0m \u001b[32m━━━━━━━━━━━━━━━━━━━━\u001b[0m\u001b[37m\u001b[0m \u001b[1m3s\u001b[0m 7ms/step - accuracy: 0.9554 - loss: 0.0957 - val_accuracy: 0.8697 - val_loss: 0.4172\n"
          ]
        }
      ]
    },
    {
      "cell_type": "code",
      "source": [
        "y_test_pred = (model.predict(X_test) > 0.5).astype(\"int32\")"
      ],
      "metadata": {
        "id": "oQ-fpajR4DJH",
        "colab": {
          "base_uri": "https://localhost:8080/"
        },
        "outputId": "8388c79f-98e7-415a-9310-56efe5954532"
      },
      "execution_count": 22,
      "outputs": [
        {
          "output_type": "stream",
          "name": "stdout",
          "text": [
            "\u001b[1m157/157\u001b[0m \u001b[32m━━━━━━━━━━━━━━━━━━━━\u001b[0m\u001b[37m\u001b[0m \u001b[1m1s\u001b[0m 4ms/step\n"
          ]
        }
      ]
    },
    {
      "cell_type": "code",
      "source": [
        "print(classification_report(y_test, y_test_pred, target_names=['Non-Toxic', 'Toxic']))"
      ],
      "metadata": {
        "colab": {
          "base_uri": "https://localhost:8080/"
        },
        "id": "Ks4FVQsKeL3b",
        "outputId": "b1cbc8b7-2e3f-4ba1-c5a4-9e177c1fdd39"
      },
      "execution_count": 23,
      "outputs": [
        {
          "output_type": "stream",
          "name": "stdout",
          "text": [
            "              precision    recall  f1-score   support\n",
            "\n",
            "   Non-Toxic       0.89      0.88      0.88      2489\n",
            "       Toxic       0.88      0.89      0.89      2519\n",
            "\n",
            "    accuracy                           0.89      5008\n",
            "   macro avg       0.89      0.89      0.89      5008\n",
            "weighted avg       0.89      0.89      0.89      5008\n",
            "\n"
          ]
        }
      ]
    },
    {
      "cell_type": "markdown",
      "source": [
        "#Excercise 2"
      ],
      "metadata": {
        "id": "Pz1OArM7ecUf"
      }
    },
    {
      "cell_type": "code",
      "source": [
        "import pandas as pd\n",
        "import numpy as np\n",
        "from transformers import RobertaTokenizer, TFRobertaForSequenceClassification, DistilBertTokenizer, TFDistilBertForSequenceClassification\n",
        "from tensorflow.keras.losses import SparseCategoricalCrossentropy"
      ],
      "metadata": {
        "id": "gdoi9DxbHuUC"
      },
      "execution_count": 24,
      "outputs": []
    },
    {
      "cell_type": "code",
      "source": [
        "sentences = data['Sentence'].values.tolist()\n",
        "labels = data['Style'].apply(lambda x: 1 if x == 'toxic' else 0).values"
      ],
      "metadata": {
        "id": "abdKFePiIybS"
      },
      "execution_count": 25,
      "outputs": []
    },
    {
      "cell_type": "code",
      "source": [
        "tokenizer_roberta = RobertaTokenizer.from_pretrained('roberta-base')\n",
        "tokenizer_distilbert = DistilBertTokenizer.from_pretrained('distilbert-base-uncased')\n",
        "\n",
        "def tokenize_sentences(tokenizer, sentences, max_length=15):\n",
        "    input_ids = []\n",
        "    attention_masks = []\n",
        "    for sentence in sentences:\n",
        "        result = tokenizer.encode_plus(sentence, max_length=max_length, truncation=True, padding='max_length')\n",
        "        input_ids.append(result['input_ids'])\n",
        "        attention_masks.append(result['attention_mask'])\n",
        "    return np.array(input_ids), np.array(attention_masks)\n",
        "\n",
        "train_input_ids_roberta, train_attention_masks_roberta = tokenize_sentences(tokenizer_roberta, sentences)\n",
        "train_input_ids_distilbert, train_attention_masks_distilbert = tokenize_sentences(tokenizer_distilbert, sentences)\n",
        "\n",
        "X_train_roberta, X_test_roberta, y_train, y_test = train_test_split(train_input_ids_roberta, labels, test_size=0.2, random_state=42)\n",
        "train_attention_masks_roberta, test_attention_masks_roberta, _, _ = train_test_split(train_attention_masks_roberta, labels, test_size=0.2, random_state=42)\n",
        "\n",
        "X_train_distilbert, X_test_distilbert, _, _ = train_test_split(train_input_ids_distilbert, labels, test_size=0.2, random_state=42)\n",
        "train_attention_masks_distilbert, test_attention_masks_distilbert, _, _ = train_test_split(train_attention_masks_distilbert, labels, test_size=0.2, random_state=42)\n",
        "\n",
        "y_train = np.array(y_train)\n",
        "y_test = np.array(y_test)\n"
      ],
      "metadata": {
        "colab": {
          "base_uri": "https://localhost:8080/"
        },
        "id": "YXhJXGLgI7eI",
        "outputId": "bc433ebb-d8ea-47bf-d628-a07c784a6d79"
      },
      "execution_count": 26,
      "outputs": [
        {
          "output_type": "stream",
          "name": "stderr",
          "text": [
            "/usr/local/lib/python3.10/dist-packages/huggingface_hub/utils/_token.py:89: UserWarning: \n",
            "The secret `HF_TOKEN` does not exist in your Colab secrets.\n",
            "To authenticate with the Hugging Face Hub, create a token in your settings tab (https://huggingface.co/settings/tokens), set it as secret in your Google Colab and restart your session.\n",
            "You will be able to reuse this secret in all of your notebooks.\n",
            "Please note that authentication is recommended but still optional to access public models or datasets.\n",
            "  warnings.warn(\n",
            "/usr/local/lib/python3.10/dist-packages/transformers/tokenization_utils_base.py:1601: FutureWarning: `clean_up_tokenization_spaces` was not set. It will be set to `True` by default. This behavior will be depracted in transformers v4.45, and will be then set to `False` by default. For more details check this issue: https://github.com/huggingface/transformers/issues/31884\n",
            "  warnings.warn(\n"
          ]
        }
      ]
    },
    {
      "cell_type": "code",
      "source": [
        "from tensorflow.nn import softmax\n",
        "import tensorflow as tf\n",
        "\n",
        "def train_and_evaluate(model, X_train, train_masks, X_test, test_masks, y_train, y_test, learning_rate=1e-5, epochs=3):\n",
        "    model.compile(optimizer='adam', loss='binary_crossentropy', metrics=['accuracy'])\n",
        "\n",
        "    model.fit([X_train, train_masks], y_train, epochs=epochs, batch_size=64, validation_split=0.2)\n",
        "\n",
        "    y_pred = model.predict([X_test, test_masks])\n",
        "    y_pred_probs = softmax(y_pred.logits, axis=-1)\n",
        "    y_pred_classes = np.argmax(y_pred_probs, axis=1)\n",
        "\n",
        "    print(classification_report(y_test, y_pred_classes))"
      ],
      "metadata": {
        "id": "02KK8iHoKW9i"
      },
      "execution_count": 36,
      "outputs": []
    },
    {
      "cell_type": "code",
      "source": [
        "model_roberta = TFRobertaForSequenceClassification.from_pretrained('roberta-base', num_labels=2)\n",
        "model_distilbert = TFDistilBertForSequenceClassification.from_pretrained('distilbert-base-uncased', num_labels=2)"
      ],
      "metadata": {
        "colab": {
          "base_uri": "https://localhost:8080/"
        },
        "id": "7rsxskyeLGYN",
        "outputId": "4128e161-f4bc-491f-ca0a-c2827d108e6d"
      },
      "execution_count": 28,
      "outputs": [
        {
          "output_type": "stream",
          "name": "stderr",
          "text": [
            "Some weights of the PyTorch model were not used when initializing the TF 2.0 model TFRobertaForSequenceClassification: ['roberta.embeddings.position_ids']\n",
            "- This IS expected if you are initializing TFRobertaForSequenceClassification from a PyTorch model trained on another task or with another architecture (e.g. initializing a TFBertForSequenceClassification model from a BertForPreTraining model).\n",
            "- This IS NOT expected if you are initializing TFRobertaForSequenceClassification from a PyTorch model that you expect to be exactly identical (e.g. initializing a TFBertForSequenceClassification model from a BertForSequenceClassification model).\n",
            "Some weights or buffers of the TF 2.0 model TFRobertaForSequenceClassification were not initialized from the PyTorch model and are newly initialized: ['classifier.dense.weight', 'classifier.dense.bias', 'classifier.out_proj.weight', 'classifier.out_proj.bias']\n",
            "You should probably TRAIN this model on a down-stream task to be able to use it for predictions and inference.\n",
            "Some weights of the PyTorch model were not used when initializing the TF 2.0 model TFDistilBertForSequenceClassification: ['vocab_layer_norm.bias', 'vocab_projector.bias', 'vocab_layer_norm.weight', 'vocab_transform.bias', 'vocab_transform.weight']\n",
            "- This IS expected if you are initializing TFDistilBertForSequenceClassification from a PyTorch model trained on another task or with another architecture (e.g. initializing a TFBertForSequenceClassification model from a BertForPreTraining model).\n",
            "- This IS NOT expected if you are initializing TFDistilBertForSequenceClassification from a PyTorch model that you expect to be exactly identical (e.g. initializing a TFBertForSequenceClassification model from a BertForSequenceClassification model).\n",
            "Some weights or buffers of the TF 2.0 model TFDistilBertForSequenceClassification were not initialized from the PyTorch model and are newly initialized: ['pre_classifier.weight', 'pre_classifier.bias', 'classifier.weight', 'classifier.bias']\n",
            "You should probably TRAIN this model on a down-stream task to be able to use it for predictions and inference.\n"
          ]
        }
      ]
    },
    {
      "cell_type": "markdown",
      "source": [
        "##Model RoBERTa\n"
      ],
      "metadata": {
        "id": "72K9aD_JL8WM"
      }
    },
    {
      "cell_type": "code",
      "source": [
        "train_and_evaluate(model_roberta, X_train_roberta, train_attention_masks_roberta,\n",
        "                   X_test_roberta, test_attention_masks_roberta, y_train, y_test)"
      ],
      "metadata": {
        "colab": {
          "base_uri": "https://localhost:8080/"
        },
        "id": "pgIH-87OLNMW",
        "outputId": "8fc0a0c1-f502-4b7d-bc04-22aa5abbaf74"
      },
      "execution_count": 37,
      "outputs": [
        {
          "output_type": "stream",
          "name": "stdout",
          "text": [
            "Epoch 1/3\n",
            "251/251 [==============================] - 95s 233ms/step - loss: 7.6156 - accuracy: 0.5069 - val_loss: 7.7179 - val_accuracy: 0.4946\n",
            "Epoch 2/3\n",
            "251/251 [==============================] - 55s 219ms/step - loss: 7.6156 - accuracy: 0.5008 - val_loss: 7.7179 - val_accuracy: 0.4946\n",
            "Epoch 3/3\n",
            "251/251 [==============================] - 56s 223ms/step - loss: 7.6156 - accuracy: 0.5084 - val_loss: 7.7179 - val_accuracy: 0.4946\n",
            "157/157 [==============================] - 11s 51ms/step\n",
            "              precision    recall  f1-score   support\n",
            "\n",
            "           0       0.86      0.00      0.00      2489\n",
            "           1       0.50      1.00      0.67      2519\n",
            "\n",
            "    accuracy                           0.50      5008\n",
            "   macro avg       0.68      0.50      0.34      5008\n",
            "weighted avg       0.68      0.50      0.34      5008\n",
            "\n"
          ]
        }
      ]
    },
    {
      "cell_type": "markdown",
      "source": [
        "##Model DistilBERT"
      ],
      "metadata": {
        "id": "99OKdaSbMNhk"
      }
    },
    {
      "cell_type": "code",
      "source": [
        "train_and_evaluate(model_distilbert, X_train_distilbert, train_attention_masks_distilbert,\n",
        "                   X_test_distilbert, test_attention_masks_distilbert, y_train, y_test)"
      ],
      "metadata": {
        "colab": {
          "base_uri": "https://localhost:8080/"
        },
        "id": "7n1Mhqy4LQyT",
        "outputId": "a379a53c-46a4-47ff-d65c-2b98acb10664"
      },
      "execution_count": 38,
      "outputs": [
        {
          "output_type": "stream",
          "name": "stdout",
          "text": [
            "Epoch 1/3\n",
            "251/251 [==============================] - 59s 152ms/step - loss: 6.0088 - accuracy: 0.4985 - val_loss: 7.7179 - val_accuracy: 0.5061\n",
            "Epoch 2/3\n",
            "251/251 [==============================] - 29s 117ms/step - loss: 7.6156 - accuracy: 0.4994 - val_loss: 7.7179 - val_accuracy: 0.5061\n",
            "Epoch 3/3\n",
            "251/251 [==============================] - 29s 115ms/step - loss: 7.6156 - accuracy: 0.4994 - val_loss: 7.7179 - val_accuracy: 0.5061\n",
            "157/157 [==============================] - 6s 28ms/step\n",
            "              precision    recall  f1-score   support\n",
            "\n",
            "           0       0.50      1.00      0.66      2489\n",
            "           1       0.00      0.00      0.00      2519\n",
            "\n",
            "    accuracy                           0.50      5008\n",
            "   macro avg       0.25      0.50      0.33      5008\n",
            "weighted avg       0.25      0.50      0.33      5008\n",
            "\n"
          ]
        },
        {
          "output_type": "stream",
          "name": "stderr",
          "text": [
            "/usr/local/lib/python3.10/dist-packages/sklearn/metrics/_classification.py:1531: UndefinedMetricWarning: Precision is ill-defined and being set to 0.0 in labels with no predicted samples. Use `zero_division` parameter to control this behavior.\n",
            "  _warn_prf(average, modifier, f\"{metric.capitalize()} is\", len(result))\n",
            "/usr/local/lib/python3.10/dist-packages/sklearn/metrics/_classification.py:1531: UndefinedMetricWarning: Precision is ill-defined and being set to 0.0 in labels with no predicted samples. Use `zero_division` parameter to control this behavior.\n",
            "  _warn_prf(average, modifier, f\"{metric.capitalize()} is\", len(result))\n",
            "/usr/local/lib/python3.10/dist-packages/sklearn/metrics/_classification.py:1531: UndefinedMetricWarning: Precision is ill-defined and being set to 0.0 in labels with no predicted samples. Use `zero_division` parameter to control this behavior.\n",
            "  _warn_prf(average, modifier, f\"{metric.capitalize()} is\", len(result))\n"
          ]
        }
      ]
    },
    {
      "cell_type": "markdown",
      "source": [
        "Од некоја причина не добивам подобри резултати со овие модели(не учи моделот, но не можам да ги менувам параметрите, освен со batch_size, кој не ми направи голема промена), но не можам и да си играм со ратата на учење поради измешани верзии во colab. Доста време се чека при тренирање, па затоа тренирам само 5 епохи."
      ],
      "metadata": {
        "id": "YXFjPnPsOAzK"
      }
    }
  ]
}